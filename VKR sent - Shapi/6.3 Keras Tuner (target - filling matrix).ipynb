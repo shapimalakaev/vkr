{
 "cells": [
  {
   "cell_type": "markdown",
   "id": "693c131c-bdd6-46f6-a67c-c666072a841c",
   "metadata": {},
   "source": [
    "# Подбор гипперпараметров нейросети при помощи Keras Tuner Hyperband"
   ]
  },
  {
   "cell_type": "code",
   "execution_count": 1,
   "id": "b354c368-e212-476f-8561-66fd16a7691d",
   "metadata": {},
   "outputs": [],
   "source": [
    "from keras.models import Sequential\n",
    "from keras.layers import Dense, Dropout\n",
    "from tensorflow.keras.optimizers import SGD, Adam, Adadelta, RMSprop\n",
    "from keras_tuner import RandomSearch, BayesianOptimization, Hyperband, Objective\n",
    "from keras.callbacks import EarlyStopping, ReduceLROnPlateau\n",
    "from keras import regularizers"
   ]
  },
  {
   "cell_type": "code",
   "execution_count": 2,
   "id": "38f124de-d694-42a8-8022-7425323253e4",
   "metadata": {},
   "outputs": [],
   "source": [
    "import numpy as np\n",
    "import pandas as pd\n",
    "from sklearn.preprocessing import PowerTransformer\n",
    "from sklearn.metrics import mean_absolute_error, mean_squared_error, r2_score\n",
    "from python_files.data import data\n",
    "data_ = data.copy()"
   ]
  },
  {
   "cell_type": "code",
   "execution_count": 3,
   "id": "ae207fca-86bd-4307-b3af-28301db12d1a",
   "metadata": {},
   "outputs": [],
   "source": [
    "from python_files.matrix.mat_split_data import X_train_mat, X_test_mat, y_train_mat, y_test_mat\n",
    "from python_files.matrix.mat_col_list import mat_x_col_list, mat_col_list_norm, mat_col_list_std"
   ]
  },
  {
   "cell_type": "markdown",
   "id": "82431eda-b868-4621-9056-bb47136eb8ec",
   "metadata": {},
   "source": [
    "### Preprocessing"
   ]
  },
  {
   "cell_type": "code",
   "execution_count": 4,
   "id": "383a5a07-85f5-4ea7-939a-7d62d4ac0516",
   "metadata": {},
   "outputs": [],
   "source": [
    "# нормализуем и стандартизируем X_train, X_test\n",
    "X_train_mat_prep = PowerTransformer().fit_transform(X_train_mat) \n",
    "X_test_mat_prep = PowerTransformer().fit_transform(X_test_mat) "
   ]
  },
  {
   "cell_type": "code",
   "execution_count": 5,
   "id": "43f4502e-db6e-401c-ac45-de96974297d5",
   "metadata": {},
   "outputs": [],
   "source": [
    "# нормализуем и стандартизируем y_train, y_test\n",
    "y_train_mat_df = pd.DataFrame(y_train_mat, columns = [data_.columns[0]])\n",
    "y_test_mat_df = pd.DataFrame(y_test_mat, columns = [data_.columns[0]])\n",
    "\n",
    "pt_y_train = PowerTransformer()\n",
    "pt_y_test = PowerTransformer()\n",
    "\n",
    "y_train_mat_prep = pt_y_train.fit_transform(y_train_mat_df) \n",
    "y_test_mat_prep = pt_y_test.fit_transform(y_test_mat_df) "
   ]
  },
  {
   "cell_type": "markdown",
   "id": "4c80b502-32f1-4d6a-94c5-47dd934050a5",
   "metadata": {},
   "source": [
    "### Model - MLP"
   ]
  },
  {
   "cell_type": "code",
   "execution_count": 6,
   "id": "1ea9967a-9ff8-40db-b38b-eff27f68a839",
   "metadata": {},
   "outputs": [],
   "source": [
    "# определяем пользовательскую функцию - нейросеть \n",
    "def MLP_model(hp):\n",
    "    model = Sequential()\n",
    "    model.add(Dense(units = hp.Float('units_input_1', min_value = 8, max_value = 56, step = 4),\n",
    "                            activation = hp.Choice('activation_1', values = ['relu','tanh','sigmoid','elu','selu']),\n",
    "                            input_shape = (12,), \n",
    "                            bias_initializer = hp.Choice('bs_init_1', values = ['zeros', 'he_normal', 'glorot_normal',\n",
    "                                                                               'he_uniform', 'glorot_uniform']),\n",
    "                            kernel_initializer = hp.Choice('kn_init_1', values = ['he_normal', 'glorot_normal',\n",
    "                                                                                 'he_uniform', 'glorot_uniform']),\n",
    "                            activity_regularizer='l1_l2'))\n",
    "    \n",
    "    model.add(Dropout(rate = hp.Float('dropout_1', min_value = 0.0, max_value = 0.5, step = 0.1)))\n",
    "    \n",
    "    model.add(Dense(units = hp.Float('units_input_2', min_value = 8, max_value = 56, step = 4),\n",
    "                            activation = hp.Choice('activation_2', values = ['relu', 'tanh', 'sigmoid', 'elu', 'selu']),\n",
    "                            bias_initializer = hp.Choice('bs_init_2', values = ['zeros', 'he_normal', 'glorot_normal',\n",
    "                                                                               'he_uniform', 'glorot_uniform']),\n",
    "                            kernel_initializer = hp.Choice('kn_init_2', values = ['he_normal', 'glorot_normal',\n",
    "                                                                                 'he_uniform', 'glorot_uniform']),\n",
    "                            activity_regularizer='l1_l2'))\n",
    "    \n",
    "    model.add(Dropout(rate = hp.Float('dropout_2', min_value = 0.0, max_value = 0.5, step = 0.1)))\n",
    "    \n",
    "    model.add(Dense(units = hp.Float('units_input_3', min_value = 8, max_value = 56, step = 4),\n",
    "                            activation = hp.Choice('activation_3', values = ['relu', 'tanh', 'sigmoid', 'elu', 'selu']),\n",
    "                            bias_initializer = hp.Choice('bs_init_3', values = ['zeros', 'he_normal', 'glorot_normal',\n",
    "                                                                               'he_uniform', 'glorot_uniform']),\n",
    "                            kernel_initializer = hp.Choice('kn_init_3', values = ['he_normal', 'glorot_normal',\n",
    "                                                                                 'he_uniform', 'glorot_uniform']),\n",
    "                            activity_regularizer='l1_l2'))\n",
    "    \n",
    "    model.add(Dropout(rate = hp.Float('dropout_3', min_value = 0.1, max_value = 0.5, step = 0.1)))\n",
    "    \n",
    "    model.add(Dense(1, activation = 'linear', \n",
    "                    bias_initializer = hp.Choice('bs_init_ex', values = ['zeros', 'he_normal', 'he_uniform']),\n",
    "                    kernel_initializer = hp.Choice('kn_init_ex', values = ['he_normal', 'he_uniform']),\n",
    "                    activity_regularizer='l1_l2'))\n",
    "   \n",
    "    sgd = SGD(momentum=0.9, nesterov=True)\n",
    "    model.compile(loss = 'mean_absolute_error', optimizer = hp.Choice('optimizer', values = ['sgd','Adam','Adadelta','RMSprop']),\n",
    "                  metrics=['mean_absolute_error'])\n",
    "    return model"
   ]
  },
  {
   "cell_type": "markdown",
   "id": "df18010b-d68c-4a45-903c-d7bc8ec3ebac",
   "metadata": {},
   "source": [
    "### Keras Tuner"
   ]
  },
  {
   "cell_type": "code",
   "execution_count": 7,
   "id": "6e6f964e-bc62-4c7c-9094-4d17d23fc363",
   "metadata": {},
   "outputs": [],
   "source": [
    "# определяем кeras_tuner\n",
    "tuner = Hyperband(\n",
    "                     MLP_model,\n",
    "                     objective = Objective(\"val_mean_absolute_error\", direction=\"min\"),\n",
    "                     max_epochs = 300,\n",
    "                     hyperband_iterations = 3,\n",
    "                     seed = 7,\n",
    "                     directory = '/keras_tuner/hyperband_2',\n",
    "                     #overwrite = True\n",
    "                    )\n",
    "\n",
    "ear_stop = EarlyStopping(monitor = 'val_mean_absolute_error', patience = 30)\n",
    "\n",
    "reduce_lr = ReduceLROnPlateau(monitor = 'val_mean_absolute_error', factor = 0.2,\n",
    "                              patience = 5, min_lr = 0.0000001, min_delta = 0.001)"
   ]
  },
  {
   "cell_type": "code",
   "execution_count": 8,
   "id": "8c7c79a4-b178-4a42-9c2c-0458e3d4b621",
   "metadata": {},
   "outputs": [
    {
     "name": "stdout",
     "output_type": "stream",
     "text": [
      "Search space summary\n",
      "Default search space size: 18\n",
      "units_input_1 (Float)\n",
      "{'default': 8.0, 'conditions': [], 'min_value': 8.0, 'max_value': 56.0, 'step': 4, 'sampling': 'linear'}\n",
      "activation_1 (Choice)\n",
      "{'default': 'relu', 'conditions': [], 'values': ['relu', 'tanh', 'sigmoid', 'elu', 'selu'], 'ordered': False}\n",
      "bs_init_1 (Choice)\n",
      "{'default': 'zeros', 'conditions': [], 'values': ['zeros', 'he_normal', 'glorot_normal', 'he_uniform', 'glorot_uniform'], 'ordered': False}\n",
      "kn_init_1 (Choice)\n",
      "{'default': 'he_normal', 'conditions': [], 'values': ['he_normal', 'glorot_normal', 'he_uniform', 'glorot_uniform'], 'ordered': False}\n",
      "dropout_1 (Float)\n",
      "{'default': 0.0, 'conditions': [], 'min_value': 0.0, 'max_value': 0.5, 'step': 0.1, 'sampling': 'linear'}\n",
      "units_input_2 (Float)\n",
      "{'default': 8.0, 'conditions': [], 'min_value': 8.0, 'max_value': 56.0, 'step': 4, 'sampling': 'linear'}\n",
      "activation_2 (Choice)\n",
      "{'default': 'relu', 'conditions': [], 'values': ['relu', 'tanh', 'sigmoid', 'elu', 'selu'], 'ordered': False}\n",
      "bs_init_2 (Choice)\n",
      "{'default': 'zeros', 'conditions': [], 'values': ['zeros', 'he_normal', 'glorot_normal', 'he_uniform', 'glorot_uniform'], 'ordered': False}\n",
      "kn_init_2 (Choice)\n",
      "{'default': 'he_normal', 'conditions': [], 'values': ['he_normal', 'glorot_normal', 'he_uniform', 'glorot_uniform'], 'ordered': False}\n",
      "dropout_2 (Float)\n",
      "{'default': 0.0, 'conditions': [], 'min_value': 0.0, 'max_value': 0.5, 'step': 0.1, 'sampling': 'linear'}\n",
      "units_input_3 (Float)\n",
      "{'default': 8.0, 'conditions': [], 'min_value': 8.0, 'max_value': 56.0, 'step': 4, 'sampling': 'linear'}\n",
      "activation_3 (Choice)\n",
      "{'default': 'relu', 'conditions': [], 'values': ['relu', 'tanh', 'sigmoid', 'elu', 'selu'], 'ordered': False}\n",
      "bs_init_3 (Choice)\n",
      "{'default': 'zeros', 'conditions': [], 'values': ['zeros', 'he_normal', 'glorot_normal', 'he_uniform', 'glorot_uniform'], 'ordered': False}\n",
      "kn_init_3 (Choice)\n",
      "{'default': 'he_normal', 'conditions': [], 'values': ['he_normal', 'glorot_normal', 'he_uniform', 'glorot_uniform'], 'ordered': False}\n",
      "dropout_3 (Float)\n",
      "{'default': 0.1, 'conditions': [], 'min_value': 0.1, 'max_value': 0.5, 'step': 0.1, 'sampling': 'linear'}\n",
      "bs_init_ex (Choice)\n",
      "{'default': 'zeros', 'conditions': [], 'values': ['zeros', 'he_normal', 'he_uniform'], 'ordered': False}\n",
      "kn_init_ex (Choice)\n",
      "{'default': 'he_normal', 'conditions': [], 'values': ['he_normal', 'he_uniform'], 'ordered': False}\n",
      "optimizer (Choice)\n",
      "{'default': 'sgd', 'conditions': [], 'values': ['sgd', 'Adam', 'Adadelta', 'RMSprop'], 'ordered': False}\n"
     ]
    }
   ],
   "source": [
    "# пространство подбираемых гипперпараметров\n",
    "tuner.search_space_summary()"
   ]
  },
  {
   "cell_type": "code",
   "execution_count": 9,
   "id": "596f0446-bfbd-4f01-8757-d75ba52d8b98",
   "metadata": {},
   "outputs": [
    {
     "name": "stdout",
     "output_type": "stream",
     "text": [
      "Trial 2175 Complete [00h 00m 08s]\n",
      "val_mean_absolute_error: 0.7909500598907471\n",
      "\n",
      "Best val_mean_absolute_error So Far: 0.7752560377120972\n",
      "Total elapsed time: 03h 41m 48s\n",
      "INFO:tensorflow:Oracle triggered exit\n"
     ]
    }
   ],
   "source": [
    "# подбираем гипперпараметры\n",
    "tuner.search(X_train_mat_prep, y_train_mat_prep,\n",
    "             #epochs = 200,\n",
    "             validation_split = 0.3,\n",
    "             callbacks = [ear_stop, reduce_lr],\n",
    "             verbose = 1,\n",
    "             #directory = '/keras_tuner/untitled_project'             \n",
    "             )"
   ]
  },
  {
   "cell_type": "markdown",
   "id": "e57f93d7-40f4-48ee-bd4f-8de163299f09",
   "metadata": {},
   "source": [
    "### Результаты работы Keras Tuner"
   ]
  },
  {
   "cell_type": "code",
   "execution_count": 10,
   "id": "53cb2818-ee4a-4142-9ed8-e33ff79aaf13",
   "metadata": {
    "scrolled": true,
    "tags": []
   },
   "outputs": [
    {
     "name": "stdout",
     "output_type": "stream",
     "text": [
      "Results summary\n",
      "Results in /keras_tuner/hyperband_2\\untitled_project\n",
      "Showing 10 best trials\n",
      "Objective(name=\"val_mean_absolute_error\", direction=\"min\")\n",
      "\n",
      "Trial 1263 summary\n",
      "Hyperparameters:\n",
      "units_input_1: 56.0\n",
      "activation_1: selu\n",
      "bs_init_1: glorot_normal\n",
      "kn_init_1: glorot_normal\n",
      "dropout_1: 0.4\n",
      "units_input_2: 44.0\n",
      "activation_2: relu\n",
      "bs_init_2: he_uniform\n",
      "kn_init_2: he_uniform\n",
      "dropout_2: 0.0\n",
      "units_input_3: 28.0\n",
      "activation_3: sigmoid\n",
      "bs_init_3: glorot_normal\n",
      "kn_init_3: he_normal\n",
      "dropout_3: 0.4\n",
      "bs_init_ex: he_uniform\n",
      "kn_init_ex: he_normal\n",
      "optimizer: RMSprop\n",
      "tuner/epochs: 4\n",
      "tuner/initial_epoch: 0\n",
      "tuner/bracket: 4\n",
      "tuner/round: 0\n",
      "Score: 0.7752560377120972\n",
      "\n",
      "Trial 1010 summary\n",
      "Hyperparameters:\n",
      "units_input_1: 56.0\n",
      "activation_1: elu\n",
      "bs_init_1: glorot_uniform\n",
      "kn_init_1: he_uniform\n",
      "dropout_1: 0.4\n",
      "units_input_2: 24.0\n",
      "activation_2: tanh\n",
      "bs_init_2: zeros\n",
      "kn_init_2: he_normal\n",
      "dropout_2: 0.1\n",
      "units_input_3: 12.0\n",
      "activation_3: relu\n",
      "bs_init_3: zeros\n",
      "kn_init_3: he_normal\n",
      "dropout_3: 0.1\n",
      "bs_init_ex: zeros\n",
      "kn_init_ex: he_normal\n",
      "optimizer: Adam\n",
      "tuner/epochs: 4\n",
      "tuner/initial_epoch: 2\n",
      "tuner/bracket: 5\n",
      "tuner/round: 1\n",
      "tuner/trial_id: 0866\n",
      "Score: 0.7756946086883545\n",
      "\n",
      "Trial 0610 summary\n",
      "Hyperparameters:\n",
      "units_input_1: 24.0\n",
      "activation_1: sigmoid\n",
      "bs_init_1: glorot_normal\n",
      "kn_init_1: he_uniform\n",
      "dropout_1: 0.2\n",
      "units_input_2: 40.0\n",
      "activation_2: tanh\n",
      "bs_init_2: he_uniform\n",
      "kn_init_2: he_uniform\n",
      "dropout_2: 0.1\n",
      "units_input_3: 40.0\n",
      "activation_3: relu\n",
      "bs_init_3: glorot_normal\n",
      "kn_init_3: he_uniform\n",
      "dropout_3: 0.2\n",
      "bs_init_ex: he_normal\n",
      "kn_init_ex: he_uniform\n",
      "optimizer: sgd\n",
      "tuner/epochs: 12\n",
      "tuner/initial_epoch: 0\n",
      "tuner/bracket: 3\n",
      "tuner/round: 0\n",
      "Score: 0.7763375639915466\n",
      "\n",
      "Trial 1136 summary\n",
      "Hyperparameters:\n",
      "units_input_1: 24.0\n",
      "activation_1: tanh\n",
      "bs_init_1: he_uniform\n",
      "kn_init_1: glorot_normal\n",
      "dropout_1: 0.4\n",
      "units_input_2: 8.0\n",
      "activation_2: tanh\n",
      "bs_init_2: glorot_normal\n",
      "kn_init_2: he_uniform\n",
      "dropout_2: 0.30000000000000004\n",
      "units_input_3: 28.0\n",
      "activation_3: tanh\n",
      "bs_init_3: glorot_normal\n",
      "kn_init_3: he_normal\n",
      "dropout_3: 0.4\n",
      "bs_init_ex: he_normal\n",
      "kn_init_ex: he_uniform\n",
      "optimizer: sgd\n",
      "tuner/epochs: 34\n",
      "tuner/initial_epoch: 12\n",
      "tuner/bracket: 5\n",
      "tuner/round: 3\n",
      "tuner/trial_id: 1113\n",
      "Score: 0.777673602104187\n",
      "\n",
      "Trial 1113 summary\n",
      "Hyperparameters:\n",
      "units_input_1: 24.0\n",
      "activation_1: tanh\n",
      "bs_init_1: he_uniform\n",
      "kn_init_1: glorot_normal\n",
      "dropout_1: 0.4\n",
      "units_input_2: 8.0\n",
      "activation_2: tanh\n",
      "bs_init_2: glorot_normal\n",
      "kn_init_2: he_uniform\n",
      "dropout_2: 0.30000000000000004\n",
      "units_input_3: 28.0\n",
      "activation_3: tanh\n",
      "bs_init_3: glorot_normal\n",
      "kn_init_3: he_normal\n",
      "dropout_3: 0.4\n",
      "bs_init_ex: he_normal\n",
      "kn_init_ex: he_uniform\n",
      "optimizer: sgd\n",
      "tuner/epochs: 12\n",
      "tuner/initial_epoch: 4\n",
      "tuner/bracket: 5\n",
      "tuner/round: 2\n",
      "tuner/trial_id: 1070\n",
      "Score: 0.7777445316314697\n",
      "\n",
      "Trial 1147 summary\n",
      "Hyperparameters:\n",
      "units_input_1: 24.0\n",
      "activation_1: tanh\n",
      "bs_init_1: he_uniform\n",
      "kn_init_1: glorot_normal\n",
      "dropout_1: 0.4\n",
      "units_input_2: 8.0\n",
      "activation_2: tanh\n",
      "bs_init_2: glorot_normal\n",
      "kn_init_2: he_uniform\n",
      "dropout_2: 0.30000000000000004\n",
      "units_input_3: 28.0\n",
      "activation_3: tanh\n",
      "bs_init_3: glorot_normal\n",
      "kn_init_3: he_normal\n",
      "dropout_3: 0.4\n",
      "bs_init_ex: he_normal\n",
      "kn_init_ex: he_uniform\n",
      "optimizer: sgd\n",
      "tuner/epochs: 100\n",
      "tuner/initial_epoch: 34\n",
      "tuner/bracket: 5\n",
      "tuner/round: 4\n",
      "tuner/trial_id: 1136\n",
      "Score: 0.7778624892234802\n",
      "\n",
      "Trial 1151 summary\n",
      "Hyperparameters:\n",
      "units_input_1: 24.0\n",
      "activation_1: tanh\n",
      "bs_init_1: he_uniform\n",
      "kn_init_1: glorot_normal\n",
      "dropout_1: 0.4\n",
      "units_input_2: 8.0\n",
      "activation_2: tanh\n",
      "bs_init_2: glorot_normal\n",
      "kn_init_2: he_uniform\n",
      "dropout_2: 0.30000000000000004\n",
      "units_input_3: 28.0\n",
      "activation_3: tanh\n",
      "bs_init_3: glorot_normal\n",
      "kn_init_3: he_normal\n",
      "dropout_3: 0.4\n",
      "bs_init_ex: he_normal\n",
      "kn_init_ex: he_uniform\n",
      "optimizer: sgd\n",
      "tuner/epochs: 300\n",
      "tuner/initial_epoch: 100\n",
      "tuner/bracket: 5\n",
      "tuner/round: 5\n",
      "tuner/trial_id: 1147\n",
      "Score: 0.7780286073684692\n",
      "\n",
      "Trial 0301 summary\n",
      "Hyperparameters:\n",
      "units_input_1: 36.0\n",
      "activation_1: tanh\n",
      "bs_init_1: he_normal\n",
      "kn_init_1: he_normal\n",
      "dropout_1: 0.0\n",
      "units_input_2: 36.0\n",
      "activation_2: sigmoid\n",
      "bs_init_2: glorot_normal\n",
      "kn_init_2: he_uniform\n",
      "dropout_2: 0.2\n",
      "units_input_3: 44.0\n",
      "activation_3: relu\n",
      "bs_init_3: glorot_uniform\n",
      "kn_init_3: he_uniform\n",
      "dropout_3: 0.30000000000000004\n",
      "bs_init_ex: he_normal\n",
      "kn_init_ex: he_uniform\n",
      "optimizer: RMSprop\n",
      "tuner/epochs: 4\n",
      "tuner/initial_epoch: 2\n",
      "tuner/bracket: 5\n",
      "tuner/round: 1\n",
      "tuner/trial_id: 0129\n",
      "Score: 0.7781746983528137\n",
      "\n",
      "Trial 0789 summary\n",
      "Hyperparameters:\n",
      "units_input_1: 56.0\n",
      "activation_1: sigmoid\n",
      "bs_init_1: he_uniform\n",
      "kn_init_1: he_uniform\n",
      "dropout_1: 0.0\n",
      "units_input_2: 16.0\n",
      "activation_2: tanh\n",
      "bs_init_2: zeros\n",
      "kn_init_2: glorot_normal\n",
      "dropout_2: 0.1\n",
      "units_input_3: 36.0\n",
      "activation_3: elu\n",
      "bs_init_3: glorot_normal\n",
      "kn_init_3: glorot_uniform\n",
      "dropout_3: 0.1\n",
      "bs_init_ex: he_normal\n",
      "kn_init_ex: he_normal\n",
      "optimizer: RMSprop\n",
      "tuner/epochs: 2\n",
      "tuner/initial_epoch: 0\n",
      "tuner/bracket: 5\n",
      "tuner/round: 0\n",
      "Score: 0.7792897820472717\n",
      "\n",
      "Trial 0648 summary\n",
      "Hyperparameters:\n",
      "units_input_1: 24.0\n",
      "activation_1: sigmoid\n",
      "bs_init_1: glorot_normal\n",
      "kn_init_1: he_uniform\n",
      "dropout_1: 0.2\n",
      "units_input_2: 40.0\n",
      "activation_2: tanh\n",
      "bs_init_2: he_uniform\n",
      "kn_init_2: he_uniform\n",
      "dropout_2: 0.1\n",
      "units_input_3: 40.0\n",
      "activation_3: relu\n",
      "bs_init_3: glorot_normal\n",
      "kn_init_3: he_uniform\n",
      "dropout_3: 0.2\n",
      "bs_init_ex: he_normal\n",
      "kn_init_ex: he_uniform\n",
      "optimizer: sgd\n",
      "tuner/epochs: 34\n",
      "tuner/initial_epoch: 12\n",
      "tuner/bracket: 3\n",
      "tuner/round: 1\n",
      "tuner/trial_id: 0610\n",
      "Score: 0.7793236374855042\n"
     ]
    }
   ],
   "source": [
    "# отчет по результатам каждой попытки keras_tuner\n",
    "tuner.results_summary()"
   ]
  },
  {
   "cell_type": "code",
   "execution_count": 11,
   "id": "ee9672b4-2c2b-4a46-9b86-bf8896ae8d2a",
   "metadata": {},
   "outputs": [],
   "source": [
    "best_hp = tuner.get_best_hyperparameters()[0]"
   ]
  },
  {
   "cell_type": "code",
   "execution_count": 12,
   "id": "13455a7f-347d-4421-af93-4e910e95ddc9",
   "metadata": {},
   "outputs": [
    {
     "data": {
      "text/plain": [
       "{'units_input_1': 56.0,\n",
       " 'activation_1': 'selu',\n",
       " 'bs_init_1': 'glorot_normal',\n",
       " 'kn_init_1': 'glorot_normal',\n",
       " 'dropout_1': 0.4,\n",
       " 'units_input_2': 44.0,\n",
       " 'activation_2': 'relu',\n",
       " 'bs_init_2': 'he_uniform',\n",
       " 'kn_init_2': 'he_uniform',\n",
       " 'dropout_2': 0.0,\n",
       " 'units_input_3': 28.0,\n",
       " 'activation_3': 'sigmoid',\n",
       " 'bs_init_3': 'glorot_normal',\n",
       " 'kn_init_3': 'he_normal',\n",
       " 'dropout_3': 0.4,\n",
       " 'bs_init_ex': 'he_uniform',\n",
       " 'kn_init_ex': 'he_normal',\n",
       " 'optimizer': 'RMSprop',\n",
       " 'tuner/epochs': 4,\n",
       " 'tuner/initial_epoch': 0,\n",
       " 'tuner/bracket': 4,\n",
       " 'tuner/round': 0}"
      ]
     },
     "execution_count": 12,
     "metadata": {},
     "output_type": "execute_result"
    }
   ],
   "source": [
    "best_hp.values"
   ]
  },
  {
   "cell_type": "code",
   "execution_count": 13,
   "id": "69d407c1-0d85-48d2-9548-3f79ca8fd3f9",
   "metadata": {},
   "outputs": [],
   "source": [
    "best_model = tuner.get_best_models()[0]"
   ]
  },
  {
   "cell_type": "code",
   "execution_count": 14,
   "id": "59c69fe7-e237-4cd7-a8f9-efcec54ccd44",
   "metadata": {},
   "outputs": [
    {
     "name": "stdout",
     "output_type": "stream",
     "text": [
      "Model: \"sequential\"\n",
      "_________________________________________________________________\n",
      " Layer (type)                Output Shape              Param #   \n",
      "=================================================================\n",
      " dense (Dense)               (None, 56)                728       \n",
      "                                                                 \n",
      " dropout (Dropout)           (None, 56)                0         \n",
      "                                                                 \n",
      " dense_1 (Dense)             (None, 44)                2508      \n",
      "                                                                 \n",
      " dropout_1 (Dropout)         (None, 44)                0         \n",
      "                                                                 \n",
      " dense_2 (Dense)             (None, 28)                1260      \n",
      "                                                                 \n",
      " dropout_2 (Dropout)         (None, 28)                0         \n",
      "                                                                 \n",
      " dense_3 (Dense)             (None, 1)                 29        \n",
      "                                                                 \n",
      "=================================================================\n",
      "Total params: 4,525\n",
      "Trainable params: 4,525\n",
      "Non-trainable params: 0\n",
      "_________________________________________________________________\n"
     ]
    }
   ],
   "source": [
    "best_model.summary()"
   ]
  },
  {
   "cell_type": "markdown",
   "id": "834d4ec2-d0e8-46c5-8d55-1beed6a056fb",
   "metadata": {},
   "source": [
    "### Prediction"
   ]
  },
  {
   "cell_type": "code",
   "execution_count": 15,
   "id": "82aabbbe-085b-4e04-8f56-19b51447d73f",
   "metadata": {},
   "outputs": [
    {
     "name": "stdout",
     "output_type": "stream",
     "text": [
      "10/10 [==============================] - 3s 5ms/step\n"
     ]
    }
   ],
   "source": [
    "preds = best_model.predict(X_test_mat_prep)"
   ]
  },
  {
   "cell_type": "code",
   "execution_count": 16,
   "id": "0c35100c-f81c-44eb-a197-2c1324b6b4a8",
   "metadata": {},
   "outputs": [
    {
     "name": "stdout",
     "output_type": "stream",
     "text": [
      "23/23 [==============================] - 0s 2ms/step\n"
     ]
    }
   ],
   "source": [
    "preds_train = best_model.predict(X_train_mat_prep)"
   ]
  },
  {
   "cell_type": "markdown",
   "id": "e3c9587e-422e-4e7f-85ab-863d470212ae",
   "metadata": {},
   "source": [
    "### Evaluation"
   ]
  },
  {
   "cell_type": "code",
   "execution_count": 17,
   "id": "d29c0564-3f47-48f3-aeaf-09560d909679",
   "metadata": {},
   "outputs": [
    {
     "data": {
      "text/plain": [
       "(0.01802809075490941, -0.03485797742660779)"
      ]
     },
     "execution_count": 17,
     "metadata": {},
     "output_type": "execute_result"
    }
   ],
   "source": [
    "r2_score(y_train_mat_prep, preds_train), r2_score(y_test_mat_prep, preds)"
   ]
  },
  {
   "cell_type": "code",
   "execution_count": 18,
   "id": "0a6b9ab5-306e-4560-9eb0-db1404abcee8",
   "metadata": {},
   "outputs": [
    {
     "name": "stderr",
     "output_type": "stream",
     "text": [
      "C:\\anaconda3\\envs\\VKR\\lib\\site-packages\\sklearn\\base.py:439: UserWarning: X does not have valid feature names, but PowerTransformer was fitted with feature names\n",
      "  warnings.warn(\n"
     ]
    }
   ],
   "source": [
    "preds_inv = pt_y_test.inverse_transform(preds)"
   ]
  },
  {
   "cell_type": "code",
   "execution_count": 19,
   "id": "409c6064-cbc1-45fd-9dc3-d9f7ef44901c",
   "metadata": {},
   "outputs": [
    {
     "data": {
      "text/plain": [
       "0.6939731460311989"
      ]
     },
     "execution_count": 19,
     "metadata": {},
     "output_type": "execute_result"
    }
   ],
   "source": [
    "mean_absolute_error(y_test_mat, preds_inv)"
   ]
  },
  {
   "cell_type": "code",
   "execution_count": 20,
   "id": "9ebe2909-7318-4f18-95c8-4b65ac5823cc",
   "metadata": {},
   "outputs": [
    {
     "data": {
      "text/plain": [
       "0.7821167085574426"
      ]
     },
     "execution_count": 20,
     "metadata": {},
     "output_type": "execute_result"
    }
   ],
   "source": [
    "mean_squared_error(y_test_mat, preds_inv)"
   ]
  },
  {
   "cell_type": "code",
   "execution_count": 21,
   "id": "db43eb2b-228e-449b-999c-174f8eb78d19",
   "metadata": {},
   "outputs": [
    {
     "data": {
      "text/plain": [
       "5.202338993519127"
      ]
     },
     "execution_count": 21,
     "metadata": {},
     "output_type": "execute_result"
    }
   ],
   "source": [
    "y_test_mat.max() - y_test_mat.min() "
   ]
  },
  {
   "cell_type": "code",
   "execution_count": 22,
   "id": "a9e25128-5f35-428e-a2db-936a3be18726",
   "metadata": {},
   "outputs": [
    {
     "data": {
      "text/plain": [
       "13.339637168891219"
      ]
     },
     "execution_count": 22,
     "metadata": {},
     "output_type": "execute_result"
    }
   ],
   "source": [
    "mean_absolute_error(y_test_mat, preds_inv) * 100 / (y_test_mat.max() - y_test_mat.min())"
   ]
  },
  {
   "cell_type": "code",
   "execution_count": null,
   "id": "f38fa6d8-77b0-4a5f-9787-f19429ae64ff",
   "metadata": {},
   "outputs": [],
   "source": []
  }
 ],
 "metadata": {
  "kernelspec": {
   "display_name": "Python 3 (ipykernel)",
   "language": "python",
   "name": "python3"
  },
  "language_info": {
   "codemirror_mode": {
    "name": "ipython",
    "version": 3
   },
   "file_extension": ".py",
   "mimetype": "text/x-python",
   "name": "python",
   "nbconvert_exporter": "python",
   "pygments_lexer": "ipython3",
   "version": "3.9.16"
  }
 },
 "nbformat": 4,
 "nbformat_minor": 5
}
