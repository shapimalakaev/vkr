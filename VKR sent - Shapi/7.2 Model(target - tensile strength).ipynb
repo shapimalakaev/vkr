{
 "cells": [
  {
   "cell_type": "markdown",
   "id": "fdd53bcb-c74c-4247-b600-37ad21831d3c",
   "metadata": {},
   "source": [
    "# Модель машинного обучения "
   ]
  },
  {
   "cell_type": "code",
   "execution_count": 1,
   "id": "7fc076b2-9474-45dd-9b7c-28b0a59b254a",
   "metadata": {},
   "outputs": [],
   "source": [
    "from python_files.data import data\n",
    "from python_files.strength.str_col_list import str_x_col_list, str_col_list_norm, str_col_list_std\n",
    "from python_files.strength.str_split_data import X_train_str, X_test_str, y_train_str, y_test_str\n",
    "# from python_files.elasticity.ela_outliers import X_train_trimmed_3S, y_train_trimmed_3S\n",
    "# from python_files.elasticity.ela_outliers import X_train_trimmed_QT, y_train_trimmed_QT\n",
    "# from python_files.elasticity.ela_outliers import X_train_sub_bound_3S, y_train_sub_bound_3S\n",
    "# from python_files.elasticity.ela_outliers import X_train_sub_bound_QT, y_train_sub_bound_QT\n",
    "# from python_files.elasticity.ela_outliers import X_train_sub_med_3S, y_train_sub_med_3S\n",
    "# from python_files.elasticity.ela_outliers import import X_train_sub_med_QT, y_train_sub_med_QT"
   ]
  },
  {
   "cell_type": "code",
   "execution_count": 2,
   "id": "a9138e2f-b2c6-43d6-8537-7401b3f97824",
   "metadata": {
    "tags": []
   },
   "outputs": [],
   "source": [
    "import numpy as np\n",
    "import pandas as pd"
   ]
  },
  {
   "cell_type": "code",
   "execution_count": 3,
   "id": "73da44b0-dcc8-4899-bc22-f94bf121cb74",
   "metadata": {},
   "outputs": [],
   "source": [
    "from sklearn.preprocessing import PowerTransformer, StandardScaler, QuantileTransformer, MaxAbsScaler, RobustScaler\n",
    "from sklearn.compose import ColumnTransformer, TransformedTargetRegressor\n",
    "from sklearn.pipeline import Pipeline\n",
    "from sklearn.ensemble import GradientBoostingRegressor, RandomForestRegressor\n",
    "from sklearn.metrics import mean_absolute_error, mean_squared_error, r2_score\n",
    "from sklearn.linear_model import LinearRegression, Lasso, ElasticNet, Ridge\n",
    "from sklearn.svm import SVR"
   ]
  },
  {
   "cell_type": "markdown",
   "id": "7544372d-92c9-4834-a054-c749f6585d3e",
   "metadata": {},
   "source": [
    "## Preprocessing"
   ]
  },
  {
   "cell_type": "code",
   "execution_count": 4,
   "id": "55bc9778-cf3c-40ed-ae9a-d6a2937783f5",
   "metadata": {},
   "outputs": [],
   "source": [
    "preprocessor = ColumnTransformer(\n",
    "    transformers=[\n",
    "        ('normalization', PowerTransformer(), str_col_list_norm), \n",
    "        ('scaling', StandardScaler(), str_col_list_std) \n",
    "    ])"
   ]
  },
  {
   "cell_type": "code",
   "execution_count": 5,
   "id": "189f8311-6228-4ba8-b80f-0d5efe11eb9a",
   "metadata": {},
   "outputs": [],
   "source": [
    "preprocessor_ = ColumnTransformer(\n",
    "    transformers=[\n",
    "        #('normalization', PowerTransformer(), ela_x_col_list)\n",
    "        ('scaling', RobustScaler(), str_x_col_list)\n",
    "    ])"
   ]
  },
  {
   "cell_type": "code",
   "execution_count": 6,
   "id": "4a80e083-daed-4102-9fe2-732bb6f33a76",
   "metadata": {},
   "outputs": [],
   "source": [
    "preprocessor_MAS = Pipeline(steps = [('scaling_1', StandardScaler(with_mean=True, with_std=False)),\n",
    "                                     ('scaling_2', MaxAbsScaler())\n",
    "                                    ])"
   ]
  },
  {
   "cell_type": "markdown",
   "id": "b855645d-b546-48d1-b1d9-af8966f4e07a",
   "metadata": {},
   "source": [
    "## Model"
   ]
  },
  {
   "cell_type": "code",
   "execution_count": 5,
   "id": "ccf519c8-2947-484e-8920-22f3c3f3de3e",
   "metadata": {},
   "outputs": [],
   "source": [
    "# model = GradientBoostingRegressor(learning_rate = 0.01, n_estimators = 100, random_state = 7)"
   ]
  },
  {
   "cell_type": "code",
   "execution_count": 42,
   "id": "d8266b6a-0ec3-4faa-930d-4d60a4013f29",
   "metadata": {},
   "outputs": [],
   "source": [
    "# model = ElasticNet(alpha = 0.2, l1_ratio = 0.1, random_state = 7)"
   ]
  },
  {
   "cell_type": "code",
   "execution_count": 61,
   "id": "f699e1b1-e888-44b3-a09f-04af2dc13754",
   "metadata": {},
   "outputs": [],
   "source": [
    "# model = Lasso(alpha = 0.4, max_iter = 1000, random_state = 7) "
   ]
  },
  {
   "cell_type": "code",
   "execution_count": 16,
   "id": "9e0c7e61-c783-4c87-a863-e229fc39f281",
   "metadata": {},
   "outputs": [],
   "source": [
    "# model = RandomForestRegressor(random_state = 7, min_samples_split = 300, n_estimators = 200)"
   ]
  },
  {
   "cell_type": "code",
   "execution_count": 44,
   "id": "0e112a0e-f7c9-4514-821e-4b360d3f37cd",
   "metadata": {},
   "outputs": [],
   "source": [
    "# model = SVR(kernel = 'linear', C = 5, gamma = 'scale')"
   ]
  },
  {
   "cell_type": "code",
   "execution_count": null,
   "id": "06673e74-420b-4890-bd18-0381fed17b58",
   "metadata": {},
   "outputs": [],
   "source": [
    "# model = Ridge(alpha = 2136, positive = False) "
   ]
  },
  {
   "cell_type": "code",
   "execution_count": 7,
   "id": "03b14d57-6df7-41fc-888a-c4913ddcf2e7",
   "metadata": {},
   "outputs": [],
   "source": [
    "model = TransformedTargetRegressor(regressor = ElasticNet(alpha = 0.2, l1_ratio = 0.1, random_state = 7),\n",
    "                                  transformer = QuantileTransformer(n_quantiles = 716, output_distribution=\"normal\", random_state = 7))\n",
    "                                   #func = np.log, inverse_func = np.exp)"
   ]
  },
  {
   "cell_type": "code",
   "execution_count": 8,
   "id": "cdb1730e-96fa-44b6-9205-87e82b03799c",
   "metadata": {},
   "outputs": [],
   "source": [
    "Regressor = Pipeline(steps=[('preprocessor', preprocessor_),\n",
    "                      ('model', model)],\n",
    "                     verbose=True)"
   ]
  },
  {
   "cell_type": "markdown",
   "id": "ee6b96c1-2209-4dd5-8a76-d62d5ba5fa43",
   "metadata": {},
   "source": [
    "## Training"
   ]
  },
  {
   "cell_type": "code",
   "execution_count": 9,
   "id": "d555a794-6879-48f4-8f4b-72f3610f9b2c",
   "metadata": {},
   "outputs": [
    {
     "name": "stdout",
     "output_type": "stream",
     "text": [
      "[Pipeline] ...... (step 1 of 2) Processing preprocessor, total=   0.2s\n",
      "[Pipeline] ............. (step 2 of 2) Processing model, total=   0.5s\n"
     ]
    },
    {
     "data": {
      "text/html": [
       "<style>#sk-container-id-1 {color: black;background-color: white;}#sk-container-id-1 pre{padding: 0;}#sk-container-id-1 div.sk-toggleable {background-color: white;}#sk-container-id-1 label.sk-toggleable__label {cursor: pointer;display: block;width: 100%;margin-bottom: 0;padding: 0.3em;box-sizing: border-box;text-align: center;}#sk-container-id-1 label.sk-toggleable__label-arrow:before {content: \"▸\";float: left;margin-right: 0.25em;color: #696969;}#sk-container-id-1 label.sk-toggleable__label-arrow:hover:before {color: black;}#sk-container-id-1 div.sk-estimator:hover label.sk-toggleable__label-arrow:before {color: black;}#sk-container-id-1 div.sk-toggleable__content {max-height: 0;max-width: 0;overflow: hidden;text-align: left;background-color: #f0f8ff;}#sk-container-id-1 div.sk-toggleable__content pre {margin: 0.2em;color: black;border-radius: 0.25em;background-color: #f0f8ff;}#sk-container-id-1 input.sk-toggleable__control:checked~div.sk-toggleable__content {max-height: 200px;max-width: 100%;overflow: auto;}#sk-container-id-1 input.sk-toggleable__control:checked~label.sk-toggleable__label-arrow:before {content: \"▾\";}#sk-container-id-1 div.sk-estimator input.sk-toggleable__control:checked~label.sk-toggleable__label {background-color: #d4ebff;}#sk-container-id-1 div.sk-label input.sk-toggleable__control:checked~label.sk-toggleable__label {background-color: #d4ebff;}#sk-container-id-1 input.sk-hidden--visually {border: 0;clip: rect(1px 1px 1px 1px);clip: rect(1px, 1px, 1px, 1px);height: 1px;margin: -1px;overflow: hidden;padding: 0;position: absolute;width: 1px;}#sk-container-id-1 div.sk-estimator {font-family: monospace;background-color: #f0f8ff;border: 1px dotted black;border-radius: 0.25em;box-sizing: border-box;margin-bottom: 0.5em;}#sk-container-id-1 div.sk-estimator:hover {background-color: #d4ebff;}#sk-container-id-1 div.sk-parallel-item::after {content: \"\";width: 100%;border-bottom: 1px solid gray;flex-grow: 1;}#sk-container-id-1 div.sk-label:hover label.sk-toggleable__label {background-color: #d4ebff;}#sk-container-id-1 div.sk-serial::before {content: \"\";position: absolute;border-left: 1px solid gray;box-sizing: border-box;top: 0;bottom: 0;left: 50%;z-index: 0;}#sk-container-id-1 div.sk-serial {display: flex;flex-direction: column;align-items: center;background-color: white;padding-right: 0.2em;padding-left: 0.2em;position: relative;}#sk-container-id-1 div.sk-item {position: relative;z-index: 1;}#sk-container-id-1 div.sk-parallel {display: flex;align-items: stretch;justify-content: center;background-color: white;position: relative;}#sk-container-id-1 div.sk-item::before, #sk-container-id-1 div.sk-parallel-item::before {content: \"\";position: absolute;border-left: 1px solid gray;box-sizing: border-box;top: 0;bottom: 0;left: 50%;z-index: -1;}#sk-container-id-1 div.sk-parallel-item {display: flex;flex-direction: column;z-index: 1;position: relative;background-color: white;}#sk-container-id-1 div.sk-parallel-item:first-child::after {align-self: flex-end;width: 50%;}#sk-container-id-1 div.sk-parallel-item:last-child::after {align-self: flex-start;width: 50%;}#sk-container-id-1 div.sk-parallel-item:only-child::after {width: 0;}#sk-container-id-1 div.sk-dashed-wrapped {border: 1px dashed gray;margin: 0 0.4em 0.5em 0.4em;box-sizing: border-box;padding-bottom: 0.4em;background-color: white;}#sk-container-id-1 div.sk-label label {font-family: monospace;font-weight: bold;display: inline-block;line-height: 1.2em;}#sk-container-id-1 div.sk-label-container {text-align: center;}#sk-container-id-1 div.sk-container {/* jupyter's `normalize.less` sets `[hidden] { display: none; }` but bootstrap.min.css set `[hidden] { display: none !important; }` so we also need the `!important` here to be able to override the default hidden behavior on the sphinx rendered scikit-learn.org. See: https://github.com/scikit-learn/scikit-learn/issues/21755 */display: inline-block !important;position: relative;}#sk-container-id-1 div.sk-text-repr-fallback {display: none;}</style><div id=\"sk-container-id-1\" class=\"sk-top-container\"><div class=\"sk-text-repr-fallback\"><pre>Pipeline(steps=[(&#x27;preprocessor&#x27;,\n",
       "                 ColumnTransformer(transformers=[(&#x27;scaling&#x27;, RobustScaler(),\n",
       "                                                  Index([&#x27;Соотношение матрица-наполнитель&#x27;, &#x27;Плотность, кг/м3&#x27;,\n",
       "       &#x27;модуль упругости, ГПа&#x27;, &#x27;Количество отвердителя, м.%&#x27;,\n",
       "       &#x27;Содержание эпоксидных групп,%_2&#x27;, &#x27;Температура вспышки, С_2&#x27;,\n",
       "       &#x27;Поверхностная плотность, г/м2&#x27;, &#x27;Модуль упругости при растяжении, ГПа&#x27;,\n",
       "       &#x27;Потребление смолы, г/м2&#x27;, &#x27;Угол нашивки, град&#x27;, &#x27;Шаг нашивки&#x27;,\n",
       "       &#x27;Плотность нашивки&#x27;],\n",
       "      dtype=&#x27;object&#x27;))])),\n",
       "                (&#x27;model&#x27;,\n",
       "                 TransformedTargetRegressor(regressor=ElasticNet(alpha=0.2,\n",
       "                                                                 l1_ratio=0.1,\n",
       "                                                                 random_state=7),\n",
       "                                            transformer=QuantileTransformer(n_quantiles=716,\n",
       "                                                                            output_distribution=&#x27;normal&#x27;,\n",
       "                                                                            random_state=7)))],\n",
       "         verbose=True)</pre><b>In a Jupyter environment, please rerun this cell to show the HTML representation or trust the notebook. <br />On GitHub, the HTML representation is unable to render, please try loading this page with nbviewer.org.</b></div><div class=\"sk-container\" hidden><div class=\"sk-item sk-dashed-wrapped\"><div class=\"sk-label-container\"><div class=\"sk-label sk-toggleable\"><input class=\"sk-toggleable__control sk-hidden--visually\" id=\"sk-estimator-id-1\" type=\"checkbox\" ><label for=\"sk-estimator-id-1\" class=\"sk-toggleable__label sk-toggleable__label-arrow\">Pipeline</label><div class=\"sk-toggleable__content\"><pre>Pipeline(steps=[(&#x27;preprocessor&#x27;,\n",
       "                 ColumnTransformer(transformers=[(&#x27;scaling&#x27;, RobustScaler(),\n",
       "                                                  Index([&#x27;Соотношение матрица-наполнитель&#x27;, &#x27;Плотность, кг/м3&#x27;,\n",
       "       &#x27;модуль упругости, ГПа&#x27;, &#x27;Количество отвердителя, м.%&#x27;,\n",
       "       &#x27;Содержание эпоксидных групп,%_2&#x27;, &#x27;Температура вспышки, С_2&#x27;,\n",
       "       &#x27;Поверхностная плотность, г/м2&#x27;, &#x27;Модуль упругости при растяжении, ГПа&#x27;,\n",
       "       &#x27;Потребление смолы, г/м2&#x27;, &#x27;Угол нашивки, град&#x27;, &#x27;Шаг нашивки&#x27;,\n",
       "       &#x27;Плотность нашивки&#x27;],\n",
       "      dtype=&#x27;object&#x27;))])),\n",
       "                (&#x27;model&#x27;,\n",
       "                 TransformedTargetRegressor(regressor=ElasticNet(alpha=0.2,\n",
       "                                                                 l1_ratio=0.1,\n",
       "                                                                 random_state=7),\n",
       "                                            transformer=QuantileTransformer(n_quantiles=716,\n",
       "                                                                            output_distribution=&#x27;normal&#x27;,\n",
       "                                                                            random_state=7)))],\n",
       "         verbose=True)</pre></div></div></div><div class=\"sk-serial\"><div class=\"sk-item sk-dashed-wrapped\"><div class=\"sk-label-container\"><div class=\"sk-label sk-toggleable\"><input class=\"sk-toggleable__control sk-hidden--visually\" id=\"sk-estimator-id-2\" type=\"checkbox\" ><label for=\"sk-estimator-id-2\" class=\"sk-toggleable__label sk-toggleable__label-arrow\">preprocessor: ColumnTransformer</label><div class=\"sk-toggleable__content\"><pre>ColumnTransformer(transformers=[(&#x27;scaling&#x27;, RobustScaler(),\n",
       "                                 Index([&#x27;Соотношение матрица-наполнитель&#x27;, &#x27;Плотность, кг/м3&#x27;,\n",
       "       &#x27;модуль упругости, ГПа&#x27;, &#x27;Количество отвердителя, м.%&#x27;,\n",
       "       &#x27;Содержание эпоксидных групп,%_2&#x27;, &#x27;Температура вспышки, С_2&#x27;,\n",
       "       &#x27;Поверхностная плотность, г/м2&#x27;, &#x27;Модуль упругости при растяжении, ГПа&#x27;,\n",
       "       &#x27;Потребление смолы, г/м2&#x27;, &#x27;Угол нашивки, град&#x27;, &#x27;Шаг нашивки&#x27;,\n",
       "       &#x27;Плотность нашивки&#x27;],\n",
       "      dtype=&#x27;object&#x27;))])</pre></div></div></div><div class=\"sk-parallel\"><div class=\"sk-parallel-item\"><div class=\"sk-item\"><div class=\"sk-label-container\"><div class=\"sk-label sk-toggleable\"><input class=\"sk-toggleable__control sk-hidden--visually\" id=\"sk-estimator-id-3\" type=\"checkbox\" ><label for=\"sk-estimator-id-3\" class=\"sk-toggleable__label sk-toggleable__label-arrow\">scaling</label><div class=\"sk-toggleable__content\"><pre>Index([&#x27;Соотношение матрица-наполнитель&#x27;, &#x27;Плотность, кг/м3&#x27;,\n",
       "       &#x27;модуль упругости, ГПа&#x27;, &#x27;Количество отвердителя, м.%&#x27;,\n",
       "       &#x27;Содержание эпоксидных групп,%_2&#x27;, &#x27;Температура вспышки, С_2&#x27;,\n",
       "       &#x27;Поверхностная плотность, г/м2&#x27;, &#x27;Модуль упругости при растяжении, ГПа&#x27;,\n",
       "       &#x27;Потребление смолы, г/м2&#x27;, &#x27;Угол нашивки, град&#x27;, &#x27;Шаг нашивки&#x27;,\n",
       "       &#x27;Плотность нашивки&#x27;],\n",
       "      dtype=&#x27;object&#x27;)</pre></div></div></div><div class=\"sk-serial\"><div class=\"sk-item\"><div class=\"sk-estimator sk-toggleable\"><input class=\"sk-toggleable__control sk-hidden--visually\" id=\"sk-estimator-id-4\" type=\"checkbox\" ><label for=\"sk-estimator-id-4\" class=\"sk-toggleable__label sk-toggleable__label-arrow\">RobustScaler</label><div class=\"sk-toggleable__content\"><pre>RobustScaler()</pre></div></div></div></div></div></div></div></div><div class=\"sk-item sk-dashed-wrapped\"><div class=\"sk-label-container\"><div class=\"sk-label sk-toggleable\"><input class=\"sk-toggleable__control sk-hidden--visually\" id=\"sk-estimator-id-5\" type=\"checkbox\" ><label for=\"sk-estimator-id-5\" class=\"sk-toggleable__label sk-toggleable__label-arrow\">model: TransformedTargetRegressor</label><div class=\"sk-toggleable__content\"><pre>TransformedTargetRegressor(regressor=ElasticNet(alpha=0.2, l1_ratio=0.1,\n",
       "                                                random_state=7),\n",
       "                           transformer=QuantileTransformer(n_quantiles=716,\n",
       "                                                           output_distribution=&#x27;normal&#x27;,\n",
       "                                                           random_state=7))</pre></div></div></div><div class=\"sk-parallel\"><div class=\"sk-parallel-item\"><div class=\"sk-item\"><div class=\"sk-label-container\"><div class=\"sk-label sk-toggleable\"><input class=\"sk-toggleable__control sk-hidden--visually\" id=\"sk-estimator-id-6\" type=\"checkbox\" ><label for=\"sk-estimator-id-6\" class=\"sk-toggleable__label sk-toggleable__label-arrow\">regressor: ElasticNet</label><div class=\"sk-toggleable__content\"><pre>ElasticNet(alpha=0.2, l1_ratio=0.1, random_state=7)</pre></div></div></div><div class=\"sk-serial\"><div class=\"sk-item\"><div class=\"sk-estimator sk-toggleable\"><input class=\"sk-toggleable__control sk-hidden--visually\" id=\"sk-estimator-id-7\" type=\"checkbox\" ><label for=\"sk-estimator-id-7\" class=\"sk-toggleable__label sk-toggleable__label-arrow\">ElasticNet</label><div class=\"sk-toggleable__content\"><pre>ElasticNet(alpha=0.2, l1_ratio=0.1, random_state=7)</pre></div></div></div></div></div></div><div class=\"sk-parallel-item\"><div class=\"sk-item\"><div class=\"sk-label-container\"><div class=\"sk-label sk-toggleable\"><input class=\"sk-toggleable__control sk-hidden--visually\" id=\"sk-estimator-id-8\" type=\"checkbox\" ><label for=\"sk-estimator-id-8\" class=\"sk-toggleable__label sk-toggleable__label-arrow\">transformer: QuantileTransformer</label><div class=\"sk-toggleable__content\"><pre>QuantileTransformer(n_quantiles=716, output_distribution=&#x27;normal&#x27;,\n",
       "                    random_state=7)</pre></div></div></div><div class=\"sk-serial\"><div class=\"sk-item\"><div class=\"sk-estimator sk-toggleable\"><input class=\"sk-toggleable__control sk-hidden--visually\" id=\"sk-estimator-id-9\" type=\"checkbox\" ><label for=\"sk-estimator-id-9\" class=\"sk-toggleable__label sk-toggleable__label-arrow\">QuantileTransformer</label><div class=\"sk-toggleable__content\"><pre>QuantileTransformer(n_quantiles=716, output_distribution=&#x27;normal&#x27;,\n",
       "                    random_state=7)</pre></div></div></div></div></div></div></div></div></div></div></div></div>"
      ],
      "text/plain": [
       "Pipeline(steps=[('preprocessor',\n",
       "                 ColumnTransformer(transformers=[('scaling', RobustScaler(),\n",
       "                                                  Index(['Соотношение матрица-наполнитель', 'Плотность, кг/м3',\n",
       "       'модуль упругости, ГПа', 'Количество отвердителя, м.%',\n",
       "       'Содержание эпоксидных групп,%_2', 'Температура вспышки, С_2',\n",
       "       'Поверхностная плотность, г/м2', 'Модуль упругости при растяжении, ГПа',\n",
       "       'Потребление смолы, г/м2', 'Угол нашивки, град', 'Шаг нашивки',\n",
       "       'Плотность нашивки'],\n",
       "      dtype='object'))])),\n",
       "                ('model',\n",
       "                 TransformedTargetRegressor(regressor=ElasticNet(alpha=0.2,\n",
       "                                                                 l1_ratio=0.1,\n",
       "                                                                 random_state=7),\n",
       "                                            transformer=QuantileTransformer(n_quantiles=716,\n",
       "                                                                            output_distribution='normal',\n",
       "                                                                            random_state=7)))],\n",
       "         verbose=True)"
      ]
     },
     "execution_count": 9,
     "metadata": {},
     "output_type": "execute_result"
    }
   ],
   "source": [
    "Regressor.fit(X_train_str, y_train_str)"
   ]
  },
  {
   "cell_type": "markdown",
   "id": "73726583-26f4-4630-b3d1-db0831a91ba4",
   "metadata": {},
   "source": [
    "## Predictions"
   ]
  },
  {
   "cell_type": "code",
   "execution_count": 10,
   "id": "3a873d69-e876-4fcd-ae14-af4f01c58e8b",
   "metadata": {},
   "outputs": [],
   "source": [
    "predictions = Regressor.predict(X_test_str)"
   ]
  },
  {
   "cell_type": "markdown",
   "id": "9839687f-4018-4864-8c79-6b54d14d51e2",
   "metadata": {},
   "source": [
    "## Evaluation"
   ]
  },
  {
   "cell_type": "code",
   "execution_count": 11,
   "id": "232707e9-30bf-4426-b09d-aede8c02188d",
   "metadata": {},
   "outputs": [
    {
     "data": {
      "text/plain": [
       "0.0002670186306691358"
      ]
     },
     "execution_count": 11,
     "metadata": {},
     "output_type": "execute_result"
    }
   ],
   "source": [
    "r2_score(y_test_str, predictions)"
   ]
  },
  {
   "cell_type": "code",
   "execution_count": 18,
   "id": "39a9631d-00f2-4d66-89c0-eb19d4c03884",
   "metadata": {},
   "outputs": [
    {
     "data": {
      "text/plain": [
       "502.4238129465602"
      ]
     },
     "execution_count": 18,
     "metadata": {},
     "output_type": "execute_result"
    }
   ],
   "source": [
    "np.sqrt(mean_squared_error(y_test_str, predictions))"
   ]
  },
  {
   "cell_type": "code",
   "execution_count": 13,
   "id": "1749b5c8-3c9a-4fed-8d34-cd2de7a0f088",
   "metadata": {},
   "outputs": [
    {
     "data": {
      "text/plain": [
       "391.1870126443346"
      ]
     },
     "execution_count": 13,
     "metadata": {},
     "output_type": "execute_result"
    }
   ],
   "source": [
    "mean_absolute_error(y_test_str, predictions)"
   ]
  },
  {
   "cell_type": "markdown",
   "id": "9afd918d-dd15-4811-91dc-4428831e92ed",
   "metadata": {},
   "source": [
    "#### Пользовательские метрики"
   ]
  },
  {
   "cell_type": "code",
   "execution_count": 17,
   "id": "12235cb2-3819-4a85-9799-760dfd3632c0",
   "metadata": {},
   "outputs": [
    {
     "data": {
      "text/plain": [
       "84.16946550825068"
      ]
     },
     "execution_count": 17,
     "metadata": {},
     "output_type": "execute_result"
    }
   ],
   "source": [
    "(1 - (mean_absolute_error(y_test_str, predictions) / y_test_str.mean())) * 100"
   ]
  },
  {
   "cell_type": "code",
   "execution_count": 68,
   "id": "04fbad8b-adc0-4d92-a385-f3f8bf33ab17",
   "metadata": {},
   "outputs": [
    {
     "data": {
      "text/plain": [
       "14.203206412854954"
      ]
     },
     "execution_count": 68,
     "metadata": {},
     "output_type": "execute_result"
    }
   ],
   "source": [
    "mean_absolute_error(y_test_str, predictions) * 100 / (y_test_str.max() - y_test_str.min())"
   ]
  },
  {
   "cell_type": "code",
   "execution_count": 21,
   "id": "c0f07256-7d86-4f5d-8c65-da4d61e88571",
   "metadata": {},
   "outputs": [
    {
     "data": {
      "text/plain": [
       "count     307.000000\n",
       "mean     2471.091629\n",
       "std       503.311299\n",
       "min      1036.856605\n",
       "25%      2147.336531\n",
       "50%      2468.491611\n",
       "75%      2785.368040\n",
       "max      3791.072810\n",
       "Name: Прочность при растяжении, МПа, dtype: float64"
      ]
     },
     "execution_count": 21,
     "metadata": {},
     "output_type": "execute_result"
    }
   ],
   "source": [
    "y_test_str.describe()"
   ]
  },
  {
   "cell_type": "code",
   "execution_count": null,
   "id": "79c1bf57-3b72-4ddd-a6e2-2f8f23f20c36",
   "metadata": {},
   "outputs": [],
   "source": []
  }
 ],
 "metadata": {
  "kernelspec": {
   "display_name": "Python 3 (ipykernel)",
   "language": "python",
   "name": "python3"
  },
  "language_info": {
   "codemirror_mode": {
    "name": "ipython",
    "version": 3
   },
   "file_extension": ".py",
   "mimetype": "text/x-python",
   "name": "python",
   "nbconvert_exporter": "python",
   "pygments_lexer": "ipython3",
   "version": "3.9.16"
  }
 },
 "nbformat": 4,
 "nbformat_minor": 5
}
